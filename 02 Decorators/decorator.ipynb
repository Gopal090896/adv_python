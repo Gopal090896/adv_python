{
 "cells": [
  {
   "cell_type": "markdown",
   "metadata": {},
   "source": [
    "# Docrators\n",
    "1. Docorator takes any function as input\n",
    "2. Output of dacarator is modified version of input function\n",
    "3. Output of decorator is caller wrapper\n",
    "4. Main purpose of decorator id to modify the behaviour of any function"
   ]
  },
  {
   "cell_type": "markdown",
   "metadata": {},
   "source": [
    "#### Create a welcome function"
   ]
  },
  {
   "cell_type": "code",
   "execution_count": 1,
   "metadata": {},
   "outputs": [],
   "source": [
    "def welcome(func):\n",
    "    def wrapper(*args, **kwargs):\n",
    "        print(\"Welcome User!\")\n",
    "        x = func(*args, **kwargs)\n",
    "        print(f\"Function Results : {x}\")\n",
    "        print(\"Thank you!\")\n",
    "        return x\n",
    "\n",
    "    return wrapper"
   ]
  },
  {
   "cell_type": "markdown",
   "metadata": {},
   "source": [
    "## Applying decorator"
   ]
  },
  {
   "cell_type": "code",
   "execution_count": 2,
   "metadata": {},
   "outputs": [],
   "source": [
    "@welcome\n",
    "def hypotenuse(a, b):\n",
    "    return (a**2 + b**2) ** (1 / 2)"
   ]
  },
  {
   "cell_type": "code",
   "execution_count": 3,
   "metadata": {},
   "outputs": [
    {
     "name": "stdout",
     "output_type": "stream",
     "text": [
      "Welcome User!\n",
      "Function Results : 5.0\n",
      "Thank you!\n"
     ]
    }
   ],
   "source": [
    "h1 = hypotenuse(3, 4)"
   ]
  },
  {
   "cell_type": "code",
   "execution_count": 6,
   "metadata": {},
   "outputs": [],
   "source": [
    "@welcome\n",
    "def simple_interest(p, n, r):\n",
    "    i = (p * n * r) / 100\n",
    "    a = p + i\n",
    "    return {\"interest\": i, \"amount\": a}"
   ]
  },
  {
   "cell_type": "code",
   "execution_count": 7,
   "metadata": {},
   "outputs": [
    {
     "name": "stdout",
     "output_type": "stream",
     "text": [
      "Welcome User!\n",
      "Function Results : {'interest': 4277.625, 'amount': 19832.625}\n",
      "Thank you!\n"
     ]
    }
   ],
   "source": [
    "s1 = simple_interest(15555, 5, 5.5)"
   ]
  },
  {
   "cell_type": "markdown",
   "metadata": {},
   "source": [
    "### write decorator function to measure time for a given function to execute "
   ]
  },
  {
   "cell_type": "code",
   "execution_count": 8,
   "metadata": {},
   "outputs": [],
   "source": [
    "import time"
   ]
  },
  {
   "cell_type": "code",
   "execution_count": 10,
   "metadata": {},
   "outputs": [
    {
     "name": "stdout",
     "output_type": "stream",
     "text": [
      "Hello\n",
      "Gopal\n",
      "Time required for execution : 3.002 sec\n"
     ]
    }
   ],
   "source": [
    "start = time.perf_counter()\n",
    "time.sleep(1)\n",
    "print(\"Hello\")\n",
    "time.sleep(2)\n",
    "print(\"Gopal\")\n",
    "stop = time.perf_counter()\n",
    "elapsed = stop - start\n",
    "print(f\"Time required for execution : {elapsed:.3f} sec\")"
   ]
  },
  {
   "cell_type": "code",
   "execution_count": 11,
   "metadata": {},
   "outputs": [],
   "source": [
    "def measure_time(func):\n",
    "    def wrapper(*args, **kwargs):\n",
    "        start = time.perf_counter()\n",
    "        x = func(*args, **kwargs)\n",
    "        print(f\"Results : {x}\")\n",
    "        stop = time.perf_counter()\n",
    "        elapsed = stop - start\n",
    "        print(f\" Time elapsed : { elapsed: 4f} sec\")\n",
    "        return x\n",
    "\n",
    "    return wrapper"
   ]
  },
  {
   "cell_type": "code",
   "execution_count": 14,
   "metadata": {},
   "outputs": [],
   "source": [
    "@measure_time\n",
    "def square(n):\n",
    "    time.sleep(2)\n",
    "    return n**2"
   ]
  },
  {
   "cell_type": "code",
   "execution_count": 15,
   "metadata": {},
   "outputs": [
    {
     "name": "stdout",
     "output_type": "stream",
     "text": [
      "Results : 25\n",
      " Time elapsed :  2.000751 sec\n"
     ]
    },
    {
     "data": {
      "text/plain": [
       "25"
      ]
     },
     "execution_count": 15,
     "metadata": {},
     "output_type": "execute_result"
    }
   ],
   "source": [
    "square(5)"
   ]
  },
  {
   "cell_type": "code",
   "execution_count": 21,
   "metadata": {},
   "outputs": [],
   "source": [
    "@measure_time\n",
    "def square_list(nums: list) -> list:\n",
    "    s = []\n",
    "    for i in nums:\n",
    "        time.sleep(1)\n",
    "        s.append(i**2)\n",
    "        return s"
   ]
  },
  {
   "cell_type": "code",
   "execution_count": 24,
   "metadata": {},
   "outputs": [],
   "source": [
    "a = [4, 5, 6, 7]"
   ]
  },
  {
   "cell_type": "code",
   "execution_count": 25,
   "metadata": {},
   "outputs": [
    {
     "name": "stdout",
     "output_type": "stream",
     "text": [
      "Results : [16]\n",
      " Time elapsed :  1.001236 sec\n"
     ]
    }
   ],
   "source": [
    "a1 = square_list(a)"
   ]
  },
  {
   "cell_type": "code",
   "execution_count": null,
   "metadata": {},
   "outputs": [],
   "source": []
  }
 ],
 "metadata": {
  "kernelspec": {
   "display_name": "venv",
   "language": "python",
   "name": "python3"
  },
  "language_info": {
   "codemirror_mode": {
    "name": "ipython",
    "version": 3
   },
   "file_extension": ".py",
   "mimetype": "text/x-python",
   "name": "python",
   "nbconvert_exporter": "python",
   "pygments_lexer": "ipython3",
   "version": "3.12.7"
  }
 },
 "nbformat": 4,
 "nbformat_minor": 2
}
