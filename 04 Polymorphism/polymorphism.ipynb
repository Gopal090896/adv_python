{
 "cells": [
  {
   "cell_type": "markdown",
   "id": "1837d3e4",
   "metadata": {},
   "source": [
    "## Assignment of oop\n"
   ]
  },
  {
   "cell_type": "code",
   "execution_count": 1,
   "id": "222c12e6",
   "metadata": {},
   "outputs": [],
   "source": [
    "from dataclasses import dataclass\n",
    "from math import sqrt"
   ]
  },
  {
   "cell_type": "code",
   "execution_count": 29,
   "id": "a013e240",
   "metadata": {},
   "outputs": [],
   "source": [
    "@dataclass\n",
    "class Triangle:\n",
    "    a: int | float\n",
    "    b: int | float\n",
    "    c: int | float\n",
    "\n",
    "    def __post_init__(self):\n",
    "        if self.a <= 0 or self.b <= 0 or self.c <= 0:\n",
    "            raise ValueError(\"Sides of Triangle cannot be negative \")\n",
    "\n",
    "        if not self.is_triangle():\n",
    "            raise ValueError(\"Sum of two sides should always be greater than third\")\n",
    "\n",
    "    def is_triangle(self) -> bool:\n",
    "        return (\n",
    "            (self.a + self.b > self.c)\n",
    "            and (self.b + self.c > self.a)\n",
    "            and (self.a + self.c > self.b)\n",
    "        )\n",
    "\n",
    "    def perimeter(self) -> int | float:\n",
    "        return self.a + self.b + self.c\n",
    "\n",
    "    def area(self) -> float:\n",
    "        s = self.perimeter() / 2\n",
    "        a = sqrt(s * (s - self.a) * (s - self.b) * (s - self.c))\n",
    "        return a"
   ]
  },
  {
   "cell_type": "markdown",
   "id": "6e2459c1",
   "metadata": {},
   "source": [
    "## Polymorphism"
   ]
  },
  {
   "cell_type": "markdown",
   "id": "47884c33",
   "metadata": {},
   "source": [
    "### polymorphism in functions\n",
    "one function can use on multiple functions\n"
   ]
  },
  {
   "cell_type": "code",
   "execution_count": 3,
   "id": "97e273ed",
   "metadata": {},
   "outputs": [
    {
     "data": {
      "text/plain": [
       "str"
      ]
     },
     "execution_count": 3,
     "metadata": {},
     "output_type": "execute_result"
    }
   ],
   "source": [
    "a = \"Gopal\"\n",
    "type(a)"
   ]
  },
  {
   "cell_type": "code",
   "execution_count": 4,
   "id": "a80b47d2",
   "metadata": {},
   "outputs": [
    {
     "data": {
      "text/plain": [
       "5"
      ]
     },
     "execution_count": 4,
     "metadata": {},
     "output_type": "execute_result"
    }
   ],
   "source": [
    "len(a)"
   ]
  },
  {
   "cell_type": "code",
   "execution_count": 5,
   "id": "56cc0146",
   "metadata": {},
   "outputs": [
    {
     "data": {
      "text/plain": [
       "list"
      ]
     },
     "execution_count": 5,
     "metadata": {},
     "output_type": "execute_result"
    }
   ],
   "source": [
    "b = [2, 3, 4, 5]\n",
    "type(b)"
   ]
  },
  {
   "cell_type": "markdown",
   "id": "bec446b4",
   "metadata": {},
   "source": [
    "## Polymorphism in operators"
   ]
  },
  {
   "cell_type": "code",
   "execution_count": 7,
   "id": "bfbba234",
   "metadata": {},
   "outputs": [
    {
     "data": {
      "text/plain": [
       "[1, 2, 3, 4, 5, 11, 12, 13]"
      ]
     },
     "execution_count": 7,
     "metadata": {},
     "output_type": "execute_result"
    }
   ],
   "source": [
    "c = [1, 2, 3, 4, 5]\n",
    "d = [11, 12, 13]\n",
    "c + d"
   ]
  },
  {
   "cell_type": "code",
   "execution_count": 8,
   "id": "89853848",
   "metadata": {},
   "outputs": [
    {
     "data": {
      "text/plain": [
       "[1, 2, 3, 4, 5, 3, 4, 5, 6]"
      ]
     },
     "execution_count": 8,
     "metadata": {},
     "output_type": "execute_result"
    }
   ],
   "source": [
    "e = [1, 2, 3, 4, 5]\n",
    "f = [3, 4, 5, 6]\n",
    "e + f"
   ]
  },
  {
   "cell_type": "code",
   "execution_count": 9,
   "id": "345b3883",
   "metadata": {},
   "outputs": [
    {
     "data": {
      "text/plain": [
       "'EtlhiveEtlhiveEtlhive'"
      ]
     },
     "execution_count": 9,
     "metadata": {},
     "output_type": "execute_result"
    }
   ],
   "source": [
    "n = \"Etlhive\"\n",
    "n * 3"
   ]
  },
  {
   "cell_type": "code",
   "execution_count": 10,
   "id": "6aa1221d",
   "metadata": {},
   "outputs": [
    {
     "data": {
      "text/plain": [
       "'EtlhiveEtlhiveEtlhive'"
      ]
     },
     "execution_count": 10,
     "metadata": {},
     "output_type": "execute_result"
    }
   ],
   "source": [
    "n + n + n"
   ]
  },
  {
   "cell_type": "code",
   "execution_count": 11,
   "id": "5fcb26dd",
   "metadata": {},
   "outputs": [
    {
     "data": {
      "text/plain": [
       "[3, 4, 5, 3, 4, 5, 3, 4, 5, 3, 4, 5]"
      ]
     },
     "execution_count": 11,
     "metadata": {},
     "output_type": "execute_result"
    }
   ],
   "source": [
    "m = [3, 4, 5]\n",
    "m * 4"
   ]
  },
  {
   "cell_type": "markdown",
   "id": "95a62c03",
   "metadata": {},
   "source": [
    "### Polymorphism in class"
   ]
  },
  {
   "cell_type": "code",
   "execution_count": 13,
   "id": "583a76aa",
   "metadata": {},
   "outputs": [],
   "source": [
    "class India:\n",
    "\n",
    "    def capital(self):\n",
    "        print(\"New Delhi is capital of India\")\n",
    "\n",
    "    def language(self):\n",
    "        print(\"Hindi is widely spoken in India\")"
   ]
  },
  {
   "cell_type": "code",
   "execution_count": 14,
   "id": "1abf9ec7",
   "metadata": {},
   "outputs": [],
   "source": [
    "class USA:\n",
    "\n",
    "    def capital(self):\n",
    "        print(\"Washington D.C. is capital of USA\")\n",
    "\n",
    "    def language(self):\n",
    "        print(\"English is widely spoken in USA\")"
   ]
  },
  {
   "cell_type": "code",
   "execution_count": 15,
   "id": "555c4c88",
   "metadata": {},
   "outputs": [],
   "source": [
    "class France:\n",
    "\n",
    "    def capital(self):\n",
    "        print(\"Paris is capital of France\")\n",
    "\n",
    "    def language(self):\n",
    "        print(\"French is widely spoken in France\")"
   ]
  },
  {
   "cell_type": "code",
   "execution_count": 16,
   "id": "50b3b7cf",
   "metadata": {},
   "outputs": [],
   "source": [
    "c1 = India()\n",
    "c2 = USA()\n",
    "c3 = France()"
   ]
  },
  {
   "cell_type": "code",
   "execution_count": 17,
   "id": "79e9d309",
   "metadata": {},
   "outputs": [
    {
     "data": {
      "text/plain": [
       "__main__.India"
      ]
     },
     "execution_count": 17,
     "metadata": {},
     "output_type": "execute_result"
    }
   ],
   "source": [
    "type(c1)"
   ]
  },
  {
   "cell_type": "code",
   "execution_count": 18,
   "id": "7e853d0b",
   "metadata": {},
   "outputs": [
    {
     "data": {
      "text/plain": [
       "__main__.USA"
      ]
     },
     "execution_count": 18,
     "metadata": {},
     "output_type": "execute_result"
    }
   ],
   "source": [
    "type(c2)"
   ]
  },
  {
   "cell_type": "code",
   "execution_count": 19,
   "id": "03acf90d",
   "metadata": {},
   "outputs": [
    {
     "data": {
      "text/plain": [
       "__main__.France"
      ]
     },
     "execution_count": 19,
     "metadata": {},
     "output_type": "execute_result"
    }
   ],
   "source": [
    "type(c3)"
   ]
  },
  {
   "cell_type": "code",
   "execution_count": 20,
   "id": "ef702fd7",
   "metadata": {},
   "outputs": [
    {
     "name": "stdout",
     "output_type": "stream",
     "text": [
      "<class '__main__.India'>\n",
      "New Delhi is capital of India\n",
      "Hindi is widely spoken in India\n",
      "==================================================\n",
      "\n",
      "<class '__main__.USA'>\n",
      "Washington D.C. is capital of USA\n",
      "English is widely spoken in USA\n",
      "==================================================\n",
      "\n",
      "<class '__main__.France'>\n",
      "Paris is capital of France\n",
      "French is widely spoken in France\n",
      "==================================================\n",
      "\n"
     ]
    }
   ],
   "source": [
    "for country in (c1, c2, c3):\n",
    "    print(type(country))\n",
    "    country.capital()\n",
    "    country.language()\n",
    "    print(\"=\" * 50 + \"\\n\")"
   ]
  },
  {
   "cell_type": "markdown",
   "id": "ccb8bb64",
   "metadata": {},
   "source": [
    "#### Practical example\n",
    "Calulating area and perimeter for different shapes"
   ]
  },
  {
   "cell_type": "code",
   "execution_count": 22,
   "id": "c384a11a",
   "metadata": {},
   "outputs": [],
   "source": [
    "@dataclass\n",
    "class Rectangle:\n",
    "    length: int | float\n",
    "    width: int | float\n",
    "\n",
    "    def perimeter(self):\n",
    "        return 2 * (self.length + self.width)\n",
    "\n",
    "    def area(self):\n",
    "        return self.length * self.width"
   ]
  },
  {
   "cell_type": "code",
   "execution_count": 23,
   "id": "806d14e5",
   "metadata": {},
   "outputs": [],
   "source": [
    "from math import pi"
   ]
  },
  {
   "cell_type": "code",
   "execution_count": 24,
   "id": "0a2e928e",
   "metadata": {},
   "outputs": [],
   "source": [
    "@dataclass\n",
    "class Circle:\n",
    "    radius: int | float\n",
    "\n",
    "    def perimeter(self):\n",
    "        return 2 * pi * self.radius\n",
    "\n",
    "    def area(self):\n",
    "        return pi * (self.radius**2)"
   ]
  },
  {
   "cell_type": "code",
   "execution_count": 30,
   "id": "ff787ca3",
   "metadata": {},
   "outputs": [],
   "source": [
    "shapes = (\n",
    "    Triangle(11, 12, 13),\n",
    "    Circle(7.5),\n",
    "    Rectangle(50, 20),\n",
    "    Triangle(10, 11, 12.5),\n",
    "    Triangle(13, 14, 15),\n",
    "    Circle(21),\n",
    ")"
   ]
  },
  {
   "cell_type": "code",
   "execution_count": 31,
   "id": "5beacb53",
   "metadata": {},
   "outputs": [
    {
     "name": "stdout",
     "output_type": "stream",
     "text": [
      "Triangle(a=11, b=12, c=13)\n",
      "<class '__main__.Triangle'>\n",
      "Perimeter : 36.00\n",
      "Area : 61.48\n",
      "==================================================\n",
      "\n",
      "Circle(radius=7.5)\n",
      "<class '__main__.Circle'>\n",
      "Perimeter : 47.12\n",
      "Area : 176.71\n",
      "==================================================\n",
      "\n",
      "Rectangle(length=50, width=20)\n",
      "<class '__main__.Rectangle'>\n",
      "Perimeter : 140.00\n",
      "Area : 1000.00\n",
      "==================================================\n",
      "\n",
      "Triangle(a=10, b=11, c=12.5)\n",
      "<class '__main__.Triangle'>\n",
      "Perimeter : 33.50\n",
      "Area : 52.56\n",
      "==================================================\n",
      "\n",
      "Triangle(a=13, b=14, c=15)\n",
      "<class '__main__.Triangle'>\n",
      "Perimeter : 42.00\n",
      "Area : 84.00\n",
      "==================================================\n",
      "\n",
      "Circle(radius=21)\n",
      "<class '__main__.Circle'>\n",
      "Perimeter : 131.95\n",
      "Area : 1385.44\n",
      "==================================================\n",
      "\n"
     ]
    }
   ],
   "source": [
    "for i in shapes:\n",
    "    print(i)\n",
    "    print(type(i))\n",
    "    print(f\"Perimeter : {i.perimeter():.2f}\")\n",
    "    print(f\"Area : {i.area():.2f}\")\n",
    "    print(\"=\" * 50 + \"\\n\")"
   ]
  },
  {
   "cell_type": "code",
   "execution_count": 32,
   "id": "6e0d904d",
   "metadata": {},
   "outputs": [
    {
     "data": {
      "text/plain": [
       "list"
      ]
     },
     "execution_count": 32,
     "metadata": {},
     "output_type": "execute_result"
    }
   ],
   "source": [
    "a = [1, 2, 3, 4, 5]\n",
    "type(a)"
   ]
  },
  {
   "cell_type": "code",
   "execution_count": 33,
   "id": "96df41d1",
   "metadata": {},
   "outputs": [
    {
     "data": {
      "text/plain": [
       "3"
      ]
     },
     "execution_count": 33,
     "metadata": {},
     "output_type": "execute_result"
    }
   ],
   "source": [
    "a.index(4)"
   ]
  },
  {
   "cell_type": "code",
   "execution_count": 34,
   "id": "45522d0a",
   "metadata": {},
   "outputs": [
    {
     "data": {
      "text/plain": [
       "tuple"
      ]
     },
     "execution_count": 34,
     "metadata": {},
     "output_type": "execute_result"
    }
   ],
   "source": [
    "b = (11, 12, 13, 14, 15, 16)\n",
    "type(b)"
   ]
  },
  {
   "cell_type": "code",
   "execution_count": null,
   "id": "a6b3df3f",
   "metadata": {},
   "outputs": [],
   "source": []
  }
 ],
 "metadata": {
  "kernelspec": {
   "display_name": "venv",
   "language": "python",
   "name": "python3"
  },
  "language_info": {
   "codemirror_mode": {
    "name": "ipython",
    "version": 3
   },
   "file_extension": ".py",
   "mimetype": "text/x-python",
   "name": "python",
   "nbconvert_exporter": "python",
   "pygments_lexer": "ipython3",
   "version": "3.12.7"
  }
 },
 "nbformat": 4,
 "nbformat_minor": 5
}
