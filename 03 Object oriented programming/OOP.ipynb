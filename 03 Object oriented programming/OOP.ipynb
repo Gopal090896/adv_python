{
 "cells": [
  {
   "cell_type": "markdown",
   "id": "a446b1ab",
   "metadata": {},
   "source": [
    "## Object oriented programing"
   ]
  },
  {
   "cell_type": "code",
   "execution_count": 1,
   "id": "76f50b20",
   "metadata": {},
   "outputs": [],
   "source": [
    "a = 43.4"
   ]
  },
  {
   "cell_type": "code",
   "execution_count": 2,
   "id": "6a6b52fa",
   "metadata": {},
   "outputs": [
    {
     "name": "stdout",
     "output_type": "stream",
     "text": [
      "<class 'float'>\n"
     ]
    }
   ],
   "source": [
    "print(type(a))"
   ]
  },
  {
   "cell_type": "code",
   "execution_count": 3,
   "id": "60f34f05",
   "metadata": {},
   "outputs": [
    {
     "data": {
      "text/plain": [
       "dict"
      ]
     },
     "execution_count": 3,
     "metadata": {},
     "output_type": "execute_result"
    }
   ],
   "source": [
    "e = {\n",
    "    \"emp_id\": [101, 102, 103],\n",
    "    \"name\": [\"Sarthak\", \"Raman\", \"Aditi\"],\n",
    "    \"salary\": [20000, 12000, 15000],\n",
    "    \"dept\": [\"HR\", \"Purchase\", \"Sales\"],\n",
    "}\n",
    "type(e)"
   ]
  },
  {
   "cell_type": "code",
   "execution_count": 4,
   "id": "fddb7bc4",
   "metadata": {},
   "outputs": [
    {
     "data": {
      "text/html": [
       "<div>\n",
       "<style scoped>\n",
       "    .dataframe tbody tr th:only-of-type {\n",
       "        vertical-align: middle;\n",
       "    }\n",
       "\n",
       "    .dataframe tbody tr th {\n",
       "        vertical-align: top;\n",
       "    }\n",
       "\n",
       "    .dataframe thead th {\n",
       "        text-align: right;\n",
       "    }\n",
       "</style>\n",
       "<table border=\"1\" class=\"dataframe\">\n",
       "  <thead>\n",
       "    <tr style=\"text-align: right;\">\n",
       "      <th></th>\n",
       "      <th>emp_id</th>\n",
       "      <th>name</th>\n",
       "      <th>salary</th>\n",
       "      <th>dept</th>\n",
       "    </tr>\n",
       "  </thead>\n",
       "  <tbody>\n",
       "    <tr>\n",
       "      <th>0</th>\n",
       "      <td>101</td>\n",
       "      <td>Sarthak</td>\n",
       "      <td>20000</td>\n",
       "      <td>HR</td>\n",
       "    </tr>\n",
       "    <tr>\n",
       "      <th>1</th>\n",
       "      <td>102</td>\n",
       "      <td>Raman</td>\n",
       "      <td>12000</td>\n",
       "      <td>Purchase</td>\n",
       "    </tr>\n",
       "    <tr>\n",
       "      <th>2</th>\n",
       "      <td>103</td>\n",
       "      <td>Aditi</td>\n",
       "      <td>15000</td>\n",
       "      <td>Sales</td>\n",
       "    </tr>\n",
       "  </tbody>\n",
       "</table>\n",
       "</div>"
      ],
      "text/plain": [
       "   emp_id     name  salary      dept\n",
       "0     101  Sarthak   20000        HR\n",
       "1     102    Raman   12000  Purchase\n",
       "2     103    Aditi   15000     Sales"
      ]
     },
     "execution_count": 4,
     "metadata": {},
     "output_type": "execute_result"
    }
   ],
   "source": [
    "import pandas as pd\n",
    "\n",
    "df = pd.DataFrame(e)\n",
    "df"
   ]
  },
  {
   "cell_type": "code",
   "execution_count": 5,
   "id": "5c1bd97b",
   "metadata": {},
   "outputs": [
    {
     "name": "stdout",
     "output_type": "stream",
     "text": [
      "<class 'pandas.core.frame.DataFrame'>\n"
     ]
    }
   ],
   "source": [
    "print(type(df))"
   ]
  },
  {
   "cell_type": "markdown",
   "id": "c585270d",
   "metadata": {},
   "source": [
    "### Attributes in dataframe\n",
    "1. shape\n",
    "2. dtypes\n",
    "3. columns\n",
    "4. index\n",
    "5. values"
   ]
  },
  {
   "cell_type": "code",
   "execution_count": 6,
   "id": "faaa0b62",
   "metadata": {},
   "outputs": [
    {
     "data": {
      "text/plain": [
       "(3, 4)"
      ]
     },
     "execution_count": 6,
     "metadata": {},
     "output_type": "execute_result"
    }
   ],
   "source": [
    "df.shape"
   ]
  },
  {
   "cell_type": "code",
   "execution_count": 7,
   "id": "a029c2f4",
   "metadata": {},
   "outputs": [
    {
     "data": {
      "text/plain": [
       "Index(['emp_id', 'name', 'salary', 'dept'], dtype='object')"
      ]
     },
     "execution_count": 7,
     "metadata": {},
     "output_type": "execute_result"
    }
   ],
   "source": [
    "df.columns"
   ]
  },
  {
   "cell_type": "code",
   "execution_count": 8,
   "id": "31d20f12",
   "metadata": {},
   "outputs": [
    {
     "data": {
      "text/plain": [
       "RangeIndex(start=0, stop=3, step=1)"
      ]
     },
     "execution_count": 8,
     "metadata": {},
     "output_type": "execute_result"
    }
   ],
   "source": [
    "df.index"
   ]
  },
  {
   "cell_type": "code",
   "execution_count": 9,
   "id": "d0900198",
   "metadata": {},
   "outputs": [
    {
     "data": {
      "text/plain": [
       "array([[101, 'Sarthak', 20000, 'HR'],\n",
       "       [102, 'Raman', 12000, 'Purchase'],\n",
       "       [103, 'Aditi', 15000, 'Sales']], dtype=object)"
      ]
     },
     "execution_count": 9,
     "metadata": {},
     "output_type": "execute_result"
    }
   ],
   "source": [
    "df.values"
   ]
  },
  {
   "cell_type": "code",
   "execution_count": 10,
   "id": "67c8c6fe",
   "metadata": {},
   "outputs": [
    {
     "data": {
      "text/plain": [
       "emp_id     int64\n",
       "name      object\n",
       "salary     int64\n",
       "dept      object\n",
       "dtype: object"
      ]
     },
     "execution_count": 10,
     "metadata": {},
     "output_type": "execute_result"
    }
   ],
   "source": [
    "df.dtypes"
   ]
  },
  {
   "cell_type": "markdown",
   "id": "a728e3c1",
   "metadata": {},
   "source": [
    "### Functionalities of dataframe\n",
    "1. info()\n",
    "2. sort_values()\n",
    "3. group_by()\n",
    "4. agg()"
   ]
  },
  {
   "cell_type": "code",
   "execution_count": 11,
   "id": "1b5662bf",
   "metadata": {},
   "outputs": [
    {
     "name": "stdout",
     "output_type": "stream",
     "text": [
      "<class 'pandas.core.frame.DataFrame'>\n",
      "RangeIndex: 3 entries, 0 to 2\n",
      "Data columns (total 4 columns):\n",
      " #   Column  Non-Null Count  Dtype \n",
      "---  ------  --------------  ----- \n",
      " 0   emp_id  3 non-null      int64 \n",
      " 1   name    3 non-null      object\n",
      " 2   salary  3 non-null      int64 \n",
      " 3   dept    3 non-null      object\n",
      "dtypes: int64(2), object(2)\n",
      "memory usage: 228.0+ bytes\n"
     ]
    }
   ],
   "source": [
    "df.info()"
   ]
  },
  {
   "cell_type": "code",
   "execution_count": 12,
   "id": "fbfedb03",
   "metadata": {},
   "outputs": [
    {
     "data": {
      "text/html": [
       "<div>\n",
       "<style scoped>\n",
       "    .dataframe tbody tr th:only-of-type {\n",
       "        vertical-align: middle;\n",
       "    }\n",
       "\n",
       "    .dataframe tbody tr th {\n",
       "        vertical-align: top;\n",
       "    }\n",
       "\n",
       "    .dataframe thead th {\n",
       "        text-align: right;\n",
       "    }\n",
       "</style>\n",
       "<table border=\"1\" class=\"dataframe\">\n",
       "  <thead>\n",
       "    <tr style=\"text-align: right;\">\n",
       "      <th></th>\n",
       "      <th>emp_id</th>\n",
       "      <th>name</th>\n",
       "      <th>salary</th>\n",
       "      <th>dept</th>\n",
       "    </tr>\n",
       "  </thead>\n",
       "  <tbody>\n",
       "    <tr>\n",
       "      <th>2</th>\n",
       "      <td>103</td>\n",
       "      <td>Aditi</td>\n",
       "      <td>15000</td>\n",
       "      <td>Sales</td>\n",
       "    </tr>\n",
       "    <tr>\n",
       "      <th>1</th>\n",
       "      <td>102</td>\n",
       "      <td>Raman</td>\n",
       "      <td>12000</td>\n",
       "      <td>Purchase</td>\n",
       "    </tr>\n",
       "    <tr>\n",
       "      <th>0</th>\n",
       "      <td>101</td>\n",
       "      <td>Sarthak</td>\n",
       "      <td>20000</td>\n",
       "      <td>HR</td>\n",
       "    </tr>\n",
       "  </tbody>\n",
       "</table>\n",
       "</div>"
      ],
      "text/plain": [
       "   emp_id     name  salary      dept\n",
       "2     103    Aditi   15000     Sales\n",
       "1     102    Raman   12000  Purchase\n",
       "0     101  Sarthak   20000        HR"
      ]
     },
     "execution_count": 12,
     "metadata": {},
     "output_type": "execute_result"
    }
   ],
   "source": [
    "df.sort_values(by=\"name\")"
   ]
  },
  {
   "cell_type": "markdown",
   "id": "7c5baea1",
   "metadata": {},
   "source": [
    "### Create a user defined class for storing person information"
   ]
  },
  {
   "cell_type": "code",
   "execution_count": 13,
   "id": "90bdebfc",
   "metadata": {},
   "outputs": [],
   "source": [
    "class Person:\n",
    "\n",
    "    def __init__(self, name, age, gender, occupation):\n",
    "        self.name = name\n",
    "        self.age = age\n",
    "        self.gender = gender\n",
    "        self.occupation = occupation\n",
    "\n",
    "    def intro(self):\n",
    "        print(f\"My name is {self.name}\")\n",
    "        print(f\"I am {self.age} years old.\")\n",
    "        print(f\"I am a {self.gender}\")\n",
    "        print(f\"I work as a {self.occupation}\")"
   ]
  },
  {
   "cell_type": "code",
   "execution_count": 14,
   "id": "0a3dae79",
   "metadata": {},
   "outputs": [
    {
     "name": "stdout",
     "output_type": "stream",
     "text": [
      "<__main__.Person object at 0x000001A5FF92E6C0>\n"
     ]
    }
   ],
   "source": [
    "p1 = Person(name=\"Sarthak\", age=32, gender=\"male\", occupation=\"HR\")\n",
    "print(p1)"
   ]
  },
  {
   "cell_type": "code",
   "execution_count": 15,
   "id": "9c43538c",
   "metadata": {},
   "outputs": [
    {
     "data": {
      "text/plain": [
       "'Sarthak'"
      ]
     },
     "execution_count": 15,
     "metadata": {},
     "output_type": "execute_result"
    }
   ],
   "source": [
    "p1.name"
   ]
  },
  {
   "cell_type": "code",
   "execution_count": 16,
   "id": "022db093",
   "metadata": {},
   "outputs": [
    {
     "data": {
      "text/plain": [
       "32"
      ]
     },
     "execution_count": 16,
     "metadata": {},
     "output_type": "execute_result"
    }
   ],
   "source": [
    "p1.age"
   ]
  },
  {
   "cell_type": "code",
   "execution_count": 17,
   "id": "c9c42a06",
   "metadata": {},
   "outputs": [
    {
     "data": {
      "text/plain": [
       "'male'"
      ]
     },
     "execution_count": 17,
     "metadata": {},
     "output_type": "execute_result"
    }
   ],
   "source": [
    "p1.gender"
   ]
  },
  {
   "cell_type": "code",
   "execution_count": 18,
   "id": "e39d3fb0",
   "metadata": {},
   "outputs": [
    {
     "data": {
      "text/plain": [
       "'HR'"
      ]
     },
     "execution_count": 18,
     "metadata": {},
     "output_type": "execute_result"
    }
   ],
   "source": [
    "p1.occupation"
   ]
  },
  {
   "cell_type": "code",
   "execution_count": 19,
   "id": "3a1a5a98",
   "metadata": {},
   "outputs": [
    {
     "name": "stdout",
     "output_type": "stream",
     "text": [
      "My name is Sarthak\n",
      "I am 32 years old.\n",
      "I am a male\n",
      "I work as a HR\n"
     ]
    }
   ],
   "source": [
    "# Intro is a function of class Person so () shold be used in end\n",
    "p1.intro()"
   ]
  },
  {
   "cell_type": "code",
   "execution_count": 20,
   "id": "9d6ea2f3",
   "metadata": {},
   "outputs": [],
   "source": [
    "### Incorrect input can be provided by a user"
   ]
  },
  {
   "cell_type": "code",
   "execution_count": 21,
   "id": "9422ac35",
   "metadata": {},
   "outputs": [
    {
     "data": {
      "text/plain": [
       "__main__.Person"
      ]
     },
     "execution_count": 21,
     "metadata": {},
     "output_type": "execute_result"
    }
   ],
   "source": [
    "p3 = Person(name=23, age=\"Raman\", gender=21.45, occupation=False)\n",
    "type(p3)"
   ]
  },
  {
   "cell_type": "code",
   "execution_count": 22,
   "id": "0f06aff4",
   "metadata": {},
   "outputs": [
    {
     "name": "stdout",
     "output_type": "stream",
     "text": [
      "My name is 23\n",
      "I am Raman years old.\n",
      "I am a 21.45\n",
      "I work as a False\n"
     ]
    }
   ],
   "source": [
    "p3.intro()"
   ]
  },
  {
   "cell_type": "markdown",
   "id": "a70dfd6e",
   "metadata": {},
   "source": [
    "##"
   ]
  },
  {
   "cell_type": "markdown",
   "id": "28714fa8",
   "metadata": {},
   "source": [
    "### Working with Dataclasses"
   ]
  },
  {
   "cell_type": "code",
   "execution_count": 23,
   "id": "4ea079d5",
   "metadata": {},
   "outputs": [],
   "source": [
    "from dataclasses import dataclass\n",
    "from typing import Literal"
   ]
  },
  {
   "cell_type": "code",
   "execution_count": 24,
   "id": "dc027411",
   "metadata": {},
   "outputs": [],
   "source": [
    "@dataclass\n",
    "class Person2:\n",
    "    name: str\n",
    "    age: int\n",
    "    gender: Literal[\"male\", \"female\"]\n",
    "    occupation: str\n",
    "    married: bool\n",
    "\n",
    "    def talk(self):\n",
    "        print(f\"My name is {self.name}\")\n",
    "        print(f\"I am {self.age} years old\")\n",
    "        print(f\"I am {self.gender}\")\n",
    "        print(f\"I work as a {self.occupation}\")\n",
    "        print(f\"Married : {self.married}\")"
   ]
  },
  {
   "cell_type": "code",
   "execution_count": 25,
   "id": "f0c59237",
   "metadata": {},
   "outputs": [],
   "source": [
    "p3 = Person2(name=\"Raman\", age=28, gender=\"male\", occupation=\"Engg.\", married=True)"
   ]
  },
  {
   "cell_type": "code",
   "execution_count": 26,
   "id": "bb94b526",
   "metadata": {},
   "outputs": [
    {
     "name": "stdout",
     "output_type": "stream",
     "text": [
      "My name is Raman\n",
      "I am 28 years old\n",
      "I am male\n",
      "I work as a Engg.\n",
      "Married : True\n"
     ]
    }
   ],
   "source": [
    "p3.talk()"
   ]
  },
  {
   "cell_type": "code",
   "execution_count": 27,
   "id": "3dcf98e7",
   "metadata": {},
   "outputs": [],
   "source": [
    "p4 = Person2(\n",
    "    name=\"Priya\", age=33, gender=\"female\", occupation=\"Purchase\", married=False\n",
    ")"
   ]
  },
  {
   "cell_type": "code",
   "execution_count": 28,
   "id": "1c52df5b",
   "metadata": {},
   "outputs": [
    {
     "name": "stdout",
     "output_type": "stream",
     "text": [
      "My name is Priya\n",
      "I am 33 years old\n",
      "I am female\n",
      "I work as a Purchase\n",
      "Married : False\n"
     ]
    }
   ],
   "source": [
    "p4.talk()"
   ]
  },
  {
   "cell_type": "code",
   "execution_count": null,
   "id": "cf549cca",
   "metadata": {},
   "outputs": [],
   "source": []
  }
 ],
 "metadata": {
  "kernelspec": {
   "display_name": "venv",
   "language": "python",
   "name": "python3"
  },
  "language_info": {
   "codemirror_mode": {
    "name": "ipython",
    "version": 3
   },
   "file_extension": ".py",
   "mimetype": "text/x-python",
   "name": "python",
   "nbconvert_exporter": "python",
   "pygments_lexer": "ipython3",
   "version": "3.12.7"
  }
 },
 "nbformat": 4,
 "nbformat_minor": 5
}
